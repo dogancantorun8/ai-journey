{
 "cells": [
  {
   "cell_type": "code",
   "execution_count": 15,
   "id": "b8ea8105",
   "metadata": {},
   "outputs": [
    {
     "data": {
      "text/plain": [
       "4"
      ]
     },
     "execution_count": 15,
     "metadata": {},
     "output_type": "execute_result"
    }
   ],
   "source": [
    "#ARITMETIK ORTALAMA\n",
    "\n",
    "\"\"\"İstatistikte verilerin merkezine ilişkin bilgi veren ölçülere \"merkezi eğilim ölçüleri (measures of central tendency)\" \n",
    "denilmektedir. Merkezi eğilim ölçülerinin en yaygın kullanılanı aritmetik ortalamadır \"\"\"\n",
    "import statistics      #mean fonksiyonu herhangi bir iterable nesneyi parametre olarak alabilmektedir.\n",
    "a = [1, 2, 7, 8, 1, 5] \n",
    "statistics.mean(a)"
   ]
  },
  {
   "cell_type": "code",
   "execution_count": 6,
   "id": "d78b5e24",
   "metadata": {},
   "outputs": [
    {
     "name": "stdout",
     "output_type": "stream",
     "text": [
      "[4.66666667 5.66666667 6.66666667]\n"
     ]
    }
   ],
   "source": [
    "#NumPy kütüphanesindeki mean fonksiyonu axis temelinde (yani satırsal ve sütunsal biçimde) ortalama hesaplayabilmektedir. \n",
    "#Örneğin:\n",
    "import numpy as np\n",
    "a = np.array([[1, 2, 3], [5, 6, 7], [8, 9, 10]])\n",
    "print(np.mean(a, axis=0))"
   ]
  },
  {
   "cell_type": "code",
   "execution_count": 7,
   "id": "d43c67a5",
   "metadata": {},
   "outputs": [
    {
     "name": "stdout",
     "output_type": "stream",
     "text": [
      "[[ 1  2  3]\n",
      " [ 5  6  7]\n",
      " [ 8  9 10]]\n"
     ]
    },
    {
     "data": {
      "text/plain": [
       "array([4.66666667, 5.66666667, 6.66666667])"
      ]
     },
     "execution_count": 7,
     "metadata": {},
     "output_type": "execute_result"
    }
   ],
   "source": [
    "#NumPy'da mean fonksiyonu aynı zamanda ndarray sınıfının metodu biçiminde de bulunmaktadır. Örneğin:\n",
    "import numpy as np\n",
    "a = np.array([[1, 2, 3], [5, 6, 7], [8, 9, 10]])\n",
    "print(a)\n",
    "a.mean(axis=0) #axis=0 ==> sutuna gore ortalama aliyor \n"
   ]
  },
  {
   "cell_type": "code",
   "execution_count": 8,
   "id": "12aad957",
   "metadata": {},
   "outputs": [
    {
     "name": "stdout",
     "output_type": "stream",
     "text": [
      "   0  1  2\n",
      "0  1  2  3\n",
      "1  4  5  6\n",
      "2  7  8  9\n",
      "**\n",
      "0    4.0\n",
      "1    5.0\n",
      "2    6.0\n",
      "dtype: float64\n"
     ]
    }
   ],
   "source": [
    "#Pandas kütüphanesinde Series ve DataFrame sınıflarının mean metotları aritmetik ortalama hesabı yapmaktadır. DataFrame \n",
    "#sınıfının mean metodunda default axis 0 biçimindedir. Yani sütunsal ortalamalar elde edilmektedir. Örneğin:\n",
    "import pandas as pd\n",
    "df = pd.DataFrame([[1, 2, 3], [4, 5, 6], [7, 8, 9]])\n",
    "print(df)\n",
    "print(\"**\")\n",
    "print(df.mean())\n",
    "# Aritmetik ortalama aralıklı (interval) ve oransal (ratio) ölçeklere uygulanabilir. Aritmetik ortalama O(N) karmaşıklıkta yapılmaktadır."
   ]
  },
  {
   "cell_type": "code",
   "execution_count": null,
   "id": "d4a7c511",
   "metadata": {},
   "outputs": [],
   "source": [
    "#MEDYAN\n",
    "\n",
    "\"\"\"Diğer bir merkezi eğilim ölçüsü de \"medyan (median)\" denilen ölçüdür. Medyan sayıların küçükten büyüğe sıraya dizildiğinde \n",
    "ortadaki değerdir. Ancak sayılar çift sayıda ise sayıların tam ortasında bir değer olmadığı için ortadaki iki değerin aritmetik \n",
    "ortalaması medyan olarak alınmaktadır. Medyan işlemi uç değerlerden (outliers) etkilenmez. Ancak medyan işlemi aritmetik \n",
    "ortalamadan daha fazla zaman alan bir işlemdir. Çünkü medyan için önce değerlerini sıraya dizilmesi gerekmektedir. Dolayısıyla \n",
    "medyan işlemi O(N log N) karmaşıklıta bir işlemdir. Medyan işlemi Python'ın standard kütüphanesinde statistics modülü içerisindeki \n",
    "median isimli fonksiyonla yapılabilmektedir.\"\"\""
   ]
  },
  {
   "cell_type": "code",
   "execution_count": 9,
   "id": "c1183d04",
   "metadata": {},
   "outputs": [
    {
     "name": "stdout",
     "output_type": "stream",
     "text": [
      "22.0\n"
     ]
    }
   ],
   "source": [
    "import statistics\n",
    "a = [1, 23, 56, 12, 45, 21]\n",
    "print(statistics.median(a))"
   ]
  },
  {
   "cell_type": "code",
   "execution_count": 13,
   "id": "b663c197",
   "metadata": {},
   "outputs": [
    {
     "name": "stdout",
     "output_type": "stream",
     "text": [
      "[[94 14  7 50 46 69 58 30 69 49]\n",
      " [62  8  7 26 59  8 35 48  2 31]\n",
      " [68 88 15 49 87 60 39 75 43 96]\n",
      " [61 57 58 22 23 96 13 67 88 71]\n",
      " [29 82 81  6 45 47 73 19 75 91]\n",
      " [27 65  7 41 87 61 56 94 24  7]\n",
      " [26 71 39 39 98  9 77 86 64 91]\n",
      " [65 52 74 10 88 80 45 68 33 78]\n",
      " [52 58 98 15 88 95  3  3  4 49]\n",
      " [ 3 73 13 27 74 50 55  8 94 21]]\n",
      "***\n",
      "[56.5 61.5 27.  26.5 80.5 60.5 50.  57.5 53.5 60. ]\n"
     ]
    }
   ],
   "source": [
    "#NumPy kütüphanesinde medyan işlemi eksensel biçimde median fonksiyonuyla yapılabilmektedir. Örneğin:\n",
    "\n",
    "import numpy as np\n",
    "a = np.random.randint(1, 100, (10, 10))\n",
    "print(a) \n",
    "print(\"***\")\n",
    "print(np.median(a, axis=0))"
   ]
  },
  {
   "cell_type": "code",
   "execution_count": null,
   "id": "d6e05e87",
   "metadata": {},
   "outputs": [],
   "source": [
    "\"\"\" ndarray sınıfının median isimli bir metodu yoktur.\n",
    "#Benzer biçimde Pandas kütüphanesinde de Series ve DataFrame sınıflarının median isimli metotları eksensel median işlemi \n",
    "yapabilmektedir. Tabii DataFrame sınıfının median metodunun default ekseni yine 0'dır (yani sütunsal işlem yapılmaktadır).Tabii median işlemi de ancak sayısal verilere yani aralıklı ve oransal ölçeklere uygulanabilir.\"\"\" "
   ]
  },
  {
   "cell_type": "code",
   "execution_count": 22,
   "id": "b446ada2",
   "metadata": {},
   "outputs": [
    {
     "name": "stdout",
     "output_type": "stream",
     "text": [
      "[[16 54 27 30 54 40 18 13 32 94]\n",
      " [67 32 51 89 80  2 42 68 75 61]\n",
      " [60 59 48 59  3 40 78  6 55 26]\n",
      " [19 44 69 57 20 35 46 23 76 50]\n",
      " [24 19 12 10 79 54 85 96 31 48]\n",
      " [96 23 17 90 93 43 92 20 71 86]\n",
      " [61 84 92 37 92 60 34 70 98  8]\n",
      " [66 60 47 64 75 27 98 84 87 81]\n",
      " [55 77 48 91 53 48  9 83 17 83]\n",
      " [29 89 48  4 99  9 98 29 95 62]]\n",
      "*********\n",
      "    0   1   2   3   4   5   6   7   8   9\n",
      "0  16  54  27  30  54  40  18  13  32  94\n",
      "1  67  32  51  89  80   2  42  68  75  61\n",
      "2  60  59  48  59   3  40  78   6  55  26\n",
      "3  19  44  69  57  20  35  46  23  76  50\n",
      "4  24  19  12  10  79  54  85  96  31  48\n",
      "5  96  23  17  90  93  43  92  20  71  86\n",
      "6  61  84  92  37  92  60  34  70  98   8\n",
      "7  66  60  47  64  75  27  98  84  87  81\n",
      "8  55  77  48  91  53  48   9  83  17  83\n",
      "9  29  89  48   4  99   9  98  29  95  62\n",
      "*********\n",
      "0    57.5\n",
      "1    56.5\n",
      "2    48.0\n",
      "3    58.0\n",
      "4    77.0\n",
      "5    40.0\n",
      "6    62.0\n",
      "7    48.5\n",
      "8    73.0\n",
      "9    61.5\n",
      "dtype: float64\n"
     ]
    }
   ],
   "source": [
    "import numpy as np\n",
    "a = np.random.randint(1, 100, (10, 10))\n",
    "print(a) \n",
    "print(\"*********\")\n",
    "df = pd.DataFrame(a)\n",
    "print(df)\n",
    "print(\"*********\")\n",
    "print(df.median())\n"
   ]
  },
  {
   "cell_type": "code",
   "execution_count": 14,
   "id": "ba378149",
   "metadata": {},
   "outputs": [
    {
     "name": "stdout",
     "output_type": "stream",
     "text": [
      "5\n"
     ]
    }
   ],
   "source": [
    "#MOD :\n",
    "\"\"\" Merkezi eğilim ölçülerinin bir diğeri de \"mod\" denilen ölçüdür. Bir grup verideki en çok yinelenen değere \"mod (mode)\" \n",
    "    denilmektedir. Mod özellikle kategorik ve sıralı ölçeklerde ortalamanın yerini tutan bir işlem olarak kullanılmaktadır. \n",
    "    Mod işlemi genel olarak O(N log N) karmaşıklıkta yapılabilmektedir. (Tipik mod algoritmasında değerler önce sıraya dzilir.\n",
    "    Sonra yan yana aynı değerlerden kaç tane olduğu tespit edilir.) Mod işlemi Python standart kütüphanesindeki statistics\n",
    "    modülünde bulunan mode fonksiyonuyla yapılabilir. Örneğin:\n",
    "\"\"\"\n",
    "\n",
    "import statistics\n",
    "a = [1, 3, 3, 4, 2, 2, 5, 2, 7, 9, 5, 3, 5, 7, 5]\n",
    "print(statistics.mode(a)) "
   ]
  },
  {
   "cell_type": "code",
   "execution_count": 16,
   "id": "95950dce",
   "metadata": {},
   "outputs": [
    {
     "name": "stdout",
     "output_type": "stream",
     "text": [
      "[[1 1 8 4 4 5 6 7 2 4]\n",
      " [8 2 8 9 9 7 5 4 7 9]\n",
      " [7 5 7 2 3 8 5 1 5 8]\n",
      " [4 6 6 6 8 5 2 3 7 6]\n",
      " [9 9 6 1 7 4 1 9 3 8]\n",
      " [8 8 8 8 4 7 4 7 5 9]\n",
      " [6 2 2 6 8 5 3 5 8 8]\n",
      " [6 2 7 8 2 6 3 1 6 7]\n",
      " [1 4 2 4 6 5 6 2 7 4]\n",
      " [9 5 9 8 5 1 1 7 9 9]\n",
      " [3 8 7 2 5 3 6 6 9 6]\n",
      " [7 7 1 1 1 5 9 1 1 1]\n",
      " [6 9 9 9 3 4 3 7 3 6]\n",
      " [6 8 4 5 6 2 4 5 2 6]\n",
      " [5 8 7 8 6 2 9 7 8 4]\n",
      " [5 9 4 6 6 5 3 4 4 1]\n",
      " [8 3 6 8 6 5 8 8 1 8]\n",
      " [4 7 8 8 7 2 4 9 9 6]\n",
      " [4 6 2 4 8 4 1 4 1 5]\n",
      " [1 7 7 5 6 8 2 3 8 9]]\n",
      "Mode :\n",
      "[[6 8 7 8 6 5 3 7 1 6]]\n",
      "Mode Count : \n",
      "[[4 4 5 6 6 7 4 5 3 5]]\n"
     ]
    }
   ],
   "source": [
    "\"\"\"Eğer en çok yinelenen değer birden fazla ise mode fonksiyonu dizilimde ilk karşılaşılan en çok yinelenen değere geri\n",
    "    dönmektedir. \n",
    "\n",
    "    NumPy kütüphanesinde mod işlemini yapan bir fonksiyon bulunmamaktadır. Ancak SciPy kütüphanesinde mod işlemi için stats\n",
    "    modülü içerisindeki mode fonksiyonu kullanılabilir. Bu fonksiyon yine eksensel işlemler yapabilmektedir. mode fonksiyonu \n",
    "    ModeResult isimli bir sınıf türünden tuple sınıfından türetilen bir sınıf türünden bir nesne verir. Bu sınııfın mode ve \n",
    "    count örnek öznitelikleri en çok yinelenen değerleri ve onların sayılarını bize vermektedir. ModeResult sınıfı bir çeşit\n",
    "    demet özelliği gösterdiği için demet gibi de kullanılabilir. \n",
    "\"\"\"\n",
    "\n",
    "import scipy.stats\n",
    "import numpy as np\n",
    "a = np.random.randint(1, 10, (20, 10))\n",
    "print(a)\n",
    "mr = scipy.stats.mode(a, axis=0 , keepdims=True)\n",
    "print(\"Mode :\")\n",
    "print(mr.mode)\n",
    "print(\"Mode Count : \")\n",
    "print(mr.count)"
   ]
  },
  {
   "cell_type": "code",
   "execution_count": 18,
   "id": "460c2655",
   "metadata": {},
   "outputs": [
    {
     "name": "stdout",
     "output_type": "stream",
     "text": [
      "    0  1  2  3  4  5  6  7  8  9\n",
      "0   2  4  9  3  3  1  7  5  5  2\n",
      "1   1  5  9  6  4  5  5  1  7  1\n",
      "2   9  4  6  8  4  3  4  8  1  7\n",
      "3   1  2  6  5  1  4  9  1  2  2\n",
      "4   7  6  6  9  5  4  6  7  1  1\n",
      "5   7  6  7  5  1  7  2  1  1  8\n",
      "6   3  7  4  1  6  1  9  4  9  4\n",
      "7   9  7  7  1  6  9  1  2  5  7\n",
      "8   6  4  9  3  6  8  3  1  1  2\n",
      "9   7  7  9  6  4  9  1  2  4  2\n",
      "10  9  3  9  2  5  1  1  7  8  3\n",
      "11  7  7  4  7  6  5  8  4  7  8\n",
      "12  6  1  5  2  7  5  4  9  8  3\n",
      "13  9  3  5  7  8  9  2  1  3  5\n",
      "14  4  6  9  2  7  4  8  7  5  5\n",
      "15  8  1  7  5  9  4  3  8  9  4\n",
      "16  4  2  4  4  8  8  4  6  5  2\n",
      "17  8  1  5  2  1  4  8  2  1  3\n",
      "18  9  1  8  9  1  2  5  3  4  5\n",
      "19  1  3  1  4  9  9  2  5  1  5\n",
      "Mode :\n",
      "     0    1    2    3    4    5  6    7    8    9\n",
      "0  9.0  1.0  9.0  2.0  1.0  4.0  1  1.0  1.0  2.0\n",
      "1  NaN  7.0  NaN  NaN  6.0  NaN  2  NaN  NaN  NaN\n",
      "2  NaN  NaN  NaN  NaN  NaN  NaN  4  NaN  NaN  NaN\n",
      "3  NaN  NaN  NaN  NaN  NaN  NaN  8  NaN  NaN  NaN\n"
     ]
    }
   ],
   "source": [
    "\"\"\"  Pandas kütüphanesinde Series ve DataFrame sınıflarının mode metotları da mode işlemi yapmaktadır.\"\"\"\n",
    "\"\"\" DataFrame sınıfının mode metodu bize bir DataFrame nesnesi vermektedir. Uygulamacı genellikle bunun ilk satırı ile ilgilenir. \n",
    "    Diğer satırlar eşit miktarda tekrarlanan elemanlardan oluşmaktadır. Tabii belli bir sütunda eşit miktarda tekrarlanan elemanların\n",
    "    sayısı az ise artık geri döndürülen DataFrame'in o sütuna ilişkin satırlarında NaN değeri bulunacaktır\"\"\"\n",
    "import numpy as np\n",
    "import pandas as pd\n",
    "a = np.random.randint(1, 10, (20, 10))\n",
    "df = pd.DataFrame(a)\n",
    "print(df)\n",
    "print(\"Mode :\")\n",
    "print(df.mode()) \n",
    "\n"
   ]
  },
  {
   "cell_type": "code",
   "execution_count": 20,
   "id": "3a8be9db",
   "metadata": {},
   "outputs": [
    {
     "name": "stdout",
     "output_type": "stream",
     "text": [
      "5.0\n",
      "0.0\n"
     ]
    }
   ],
   "source": [
    "\"\"\"  Değerlerin merkezine ilişkin bilgiler dağılım hakkında iyi bir fikir vermeyebilir. Örneğin iki ülkede kişi başına düşen \n",
    "    ortalama yıllık gelir (gayri safi milli hasıla) 15000 dolar olabilir. Ancak bu iki ülke arasında gelir dağılımında önemli \n",
    "    farklılıklar bulunuyor olabilir. O halde değerlerin ortalamasının yanı sıra onların ortalamaya göre nasıl yayıldıkları da \n",
    "    önemlidir. İstatistikte değerlerin ortalamaya göre yayılımı için \"merkezi yayılım ölçüleri (measures of dispersion)\" denilen \n",
    "    bazı ölçüler kullanılmaktadır. Merkezi yayılım ölçüleri aslında değerlerin ortalamadan ortalama uzaklığını belirlemeyi hedeflemektedir. \n",
    "\n",
    "    Eğer biz değerlei ortalamadan çıkartıp onların ortalamasını alırsak 0 elde ederiz. Aşğıdaki programda değerlerin ortalamadan\n",
    "    uzaklıklarının ortaalaması bulunmuştur. (Bu tür durumlarda yuvarlama hatalarından dolayı sıfır yerine sıfıra çok yakın \n",
    "    değerler elde edilebilir.\"\"\"\n",
    "\n",
    "import numpy as np\n",
    "\n",
    "a = np.array([1, 4, 6, 8, 4, 2, 1, 8, 9, 3, 6, 8])\n",
    "mean = np.mean(a)\n",
    "print(mean)\n",
    "\n",
    "result = np.mean(a - mean)\n",
    "print(result) "
   ]
  },
  {
   "cell_type": "code",
   "execution_count": 21,
   "id": "e2f6bcf2",
   "metadata": {},
   "outputs": [
    {
     "name": "stdout",
     "output_type": "stream",
     "text": [
      "5.0\n",
      "2.5\n"
     ]
    }
   ],
   "source": [
    "\n",
    "\"\"\"Merkezi yayılım ölçüsü olarak \"değerlerin ortalamadan ortalama mutlak uzaklığına\" başvurulabilir. Burada mutlak değer \n",
    "    alınmasının nedeni uzaklıkları negatif olmaktan kurmak içinidir. Bu durumda ortalama 0 çıkmaz. Ancak bu yöntem de aslında \n",
    "    çok iyi bir yöntem değildir. Aşağıda aynı dilimin ortalamadan ortalama mutlak uzaklığı hesaplanmışır.\"\"\"\n",
    "import numpy as np\n",
    "\n",
    "a = np.array([1, 4, 6, 8, 4, 2, 1, 8, 9, 3, 6, 8])\n",
    "mean = np.mean(a)\n",
    "print(mean)\n",
    "\n",
    "result = np.mean(np.abs(a - mean))\n",
    "print(result)               # 2.5"
   ]
  },
  {
   "cell_type": "code",
   "execution_count": 28,
   "id": "2e977eb3",
   "metadata": {},
   "outputs": [
    {
     "name": "stdout",
     "output_type": "stream",
     "text": [
      "7.666666666666667\n",
      "7.666666666666667\n",
      "7.666666666666667\n"
     ]
    }
   ],
   "source": [
    "\"\"\"  Standart sapmanın karesine \"varyans (variance)\" denilmektedir. Varyans işlemi standart kütüphanedeki statistics modülünde \n",
    "    bulunan variance ve pvariance fonksiyonlarıyla yapılmaktadır. NumPy kütüphanesinde varyans işlemi var fonksiyonuyla ya da \n",
    "    ndarray sınıfının var metoduyla, Pandas kütüphenesinin Series ve DataFrame sınıflarındaki var metoduyla yapılmaktadır.\n",
    "    Yine NumPy'daki variance fonksiyonundaki ddof default olarak 0, Pandas'taki ddof ise 1'dir.\n",
    "\n",
    "    Pekiyi neden standart sapma varken ayrıca onun karesi için varyans terimi uydurulmuştur? İşte istatistikte pek çok durumda\n",
    "    aslında doğrudan ortalamadan farkların karesel ortalamaları (yani standart sapmanın karesi) kullanılmaktadır. Bu nedenle \n",
    "    bu hesaba ayrı bir isim verilerek anlatımlar kolaylaştırılmıştır.\"\"\" \n",
    "\n",
    "import statistics\n",
    "import numpy as np\n",
    "import pandas as pd\n",
    "\n",
    "data = [1, 4, 6, 8, 4, 2, 1, 8, 9, 3, 6, 8]\n",
    "\n",
    "result = statistics.pvariance(data)\n",
    "print(result)               # 7.666666666666667\n",
    "\n",
    "result = np.var(data)\n",
    "print(result)               # 7.666666666666667\n",
    "\n",
    "s = pd.Series(data)\n",
    "result = s.var(ddof=0)\n",
    "print(result)               # 7.666666666666667"
   ]
  },
  {
   "cell_type": "code",
   "execution_count": null,
   "id": "e9f38df7",
   "metadata": {},
   "outputs": [],
   "source": [
    "\"\"\" \n",
    "Bir deney sonucunda oluşacak durum baştan tam olarak belirlenemiyorsa böyle deneylere \"rassal deney (random experiment)\"\n",
    "    denilmektedir. Örneğin bir paranın atılması deneyinde para \"yazı\" ya da \"tura\" gelebilir. O halde \"paranın atılması\" \n",
    "    rassal bir deneydir. Benzer biçimde bir zarın atılması, bir at yarışında hangi atın birinci olacağı gibi deneyler rassal \n",
    "    deneylerdir. Bir deneyin sonucu öndecen bilinebiliyorsa bu tür deneylere \"deterministik deneyler\" de denilmektedir. \n",
    "    Bazı bilimlerdeki süreçler deterministiktir. Ancak bazı bilimlerdeki süreçlerin sonucunda oluşacak durumlar önceden \n",
    "    tam olarak kestirilememektedir. Önceden sonucu tam olarak kestirilemeyen süreçlere \"olasılıksal (probabilistic)\" ya da \n",
    "    \"stokastik (stochastic)\" süreçler denilmektedir. \n",
    "\n",
    "    Deterministik süreçlerle olasılıksal süreçler aslında üzerinde çok düşünülmüş konulardandır. Kimilerine göre olasılıksal \n",
    "    süreç diye bir şey yoktur. Her şey deterministiktir. Bir sürecin olasılıksal olması sadece \"bizim onun sonucunu belirleyemememizden\"\n",
    "    kaynaklanmaktır. Örneğin paranın atılması sırasındaki tüm bilgilere sahip olsak artık bu deneyin sonucu olasılıksal değil\n",
    "    deterministik hale gelecektir. Tabii evrende kaotik bir süreçler söz konusudur. Yani bir olay başka bir olayı etkilemekte\n",
    "    ve küçük değişiklikler büyük sonuçlara yol açabilmektedir. Buna feslefede \"kaos teorisi\" halk arasında da \"kelebek etkisi\"\n",
    "    denilmektedir. Eğer evrende mutlak bir determinizm varsa evren reset konumuna alındığında yine bugüne her şey kurulu bir \n",
    "    biçimde gelecektir. \n",
    "    \n",
    "    \n",
    "    Bir rassal deney sonucunda oluşabilecek tüm olası durumların kümesine \"örnek uzayı (sample space)\" denilmektedir. Örneğin \n",
    "    bir paranın atılması deneyinde örnek uzayı S = { Yazı, Tura} biçimindedir. Biz zarın atılması deneyindeki örnek uzayı ise\n",
    "    S = {1, 2, 3, 4, 5, 6} biçimindedir. İki zarın atılmasındaki örnek uzayı S = {(1, 1), (1, 2), (6, 5), (6, 6)} biçimindedir.\n",
    "\n",
    "    Örnek uzayın her bir alt kümesine \"olay (event)\" denilmektedir. Örneğin bir zarın atılmasındaki bazı olaylar şunlar olabilir:\n",
    "\n",
    "    E1 = {1, 3}\n",
    "    E2 = {3, 4, 5}\n",
    "    E3 = {6}\n",
    "\n",
    "    Bir kümenin bütün alt kümelerine o kümenin \"kuvvet kümesi (power set)\" denilmektedir. Bir rassal deneydeki bütün olaylar\n",
    "    kuvvet kümesi içerisindeki olaylardır. Bir kümenin tüm alt kümelerinin sayısı 2 ** n tanedir. \n",
    "\n",
    "    Örnek uzayın tek elemanlı olaylarına (yani alt kğmelerine) \"basit olay (simple events)\" denilmektedir. Örneğin paranın \n",
    "    atılması deneyindeki basit olaylar {Yazı} ve {Tura} biçimindedir. \n",
    "    \n",
    "\"\"\""
   ]
  },
  {
   "cell_type": "code",
   "execution_count": null,
   "id": "15a93714",
   "metadata": {},
   "outputs": [],
   "source": [
    "\"\"\"\n",
    "\n",
    "Olasılığın (probablity) değişik tanımları yapılabilmektedir. Olasılığın en yaygın tanımlarından birisi \"göreli sıklık \n",
    "    (relative frequency)\" tanımıdır. Bu tanıma göre bir rassal olay çok sayıda yinelendikçe elde edilen olasılık değeri belli bir değere \n",
    "    yakınsamaya başlar. Örneğin bir paranın 100 kere atılmasında 50 kere yazı 50 tura gelmeyebilir. Ancak para sonsuz sayıda \n",
    "    atılırsa (ya da çok fazla sayıda atılırsa) tura gelme sayısının paranın atılma sayısına oranı 0.5'e yakınsayacaktır. Buna \n",
    "    istatistike \"büyük sayılar yasası (law of large numbers)\" da denilmektedir. \n",
    "\n",
    "    Aşağıdaki örnekte bir para değişik miktarlarda yazı tura biçiminde atılmıştır. Elde edilen oranlar gitgide 0.5'e yakınsayacaktır.\n",
    "    Programın çalıştırılmasıyla şu değerler elde edilmiştir:\n",
    "\n",
    "    head = 0.4, tail = 0.6\n",
    "    head = 0.5, tail = 0.5\n",
    "    head = 0.479, tail = 0.521\n",
    "    head = 0.4977, tail = 0.5023\n",
    "    head = 0.50005, tail = 0.49995\n",
    "    head = 0.500075, tail = 0.499925\n",
    "    head = 0.5002417, tail = 0.4997583\n",
    "    head = 0.49997078, tail = 0.50002922\n",
    "\n",
    "\n",
    "\"\"\"    \n"
   ]
  },
  {
   "cell_type": "code",
   "execution_count": 4,
   "id": "02afc27e",
   "metadata": {},
   "outputs": [
    {
     "name": "stdout",
     "output_type": "stream",
     "text": [
      "head = 0.4, tail = 0.6\n",
      "head = 0.46, tail = 0.54\n",
      "head = 0.488, tail = 0.512\n",
      "head = 0.5052, tail = 0.4948\n",
      "head = 0.49885, tail = 0.50115\n",
      "head = 0.499655, tail = 0.500345\n",
      "head = 0.4999709, tail = 0.5000291\n",
      "head = 0.49989769, tail = 0.50010231\n"
     ]
    }
   ],
   "source": [
    "import random\n",
    "\n",
    "HEAD = 1\n",
    "\n",
    "def head_tail(n):\n",
    "    head = tail = 0\n",
    "\n",
    "    for _ in range(n):\n",
    "        val = random.randint(0, 1)\n",
    "        if val == HEAD:\n",
    "            head += 1\n",
    "        else:\n",
    "            tail += 1\n",
    "            \n",
    "    return head / n, tail / n\n",
    "            \n",
    "        \n",
    "head, tail = head_tail(10)\n",
    "print(f'head = {head}, tail = {tail}')        \n",
    "\n",
    "head, tail = head_tail(100)\n",
    "print(f'head = {head}, tail = {tail}') \n",
    "\n",
    "head, tail = head_tail(1000)\n",
    "print(f'head = {head}, tail = {tail}') \n",
    "\n",
    "head, tail = head_tail(10_000)\n",
    "print(f'head = {head}, tail = {tail}') \n",
    "\n",
    "head, tail = head_tail(100_000)\n",
    "print(f'head = {head}, tail = {tail}') \n",
    "\n",
    "head, tail = head_tail(1_000_000)\n",
    "print(f'head = {head}, tail = {tail}') \n",
    "\n",
    "head, tail = head_tail(10_000_000)\n",
    "print(f'head = {head}, tail = {tail}') \n",
    "\n",
    "head, tail = head_tail(100_000_000)\n",
    "print(f'head = {head}, tail = {tail}') \n"
   ]
  },
  {
   "cell_type": "code",
   "execution_count": null,
   "id": "53d7284a",
   "metadata": {},
   "outputs": [],
   "source": [
    "\"\"\"\n",
    "    Olasılığın temel matematiksel teorisi Kolmogorov tarafından oluşturulmuştur. Kolmogorov üç aksiyom kabul edildiğinde bütün\n",
    "    olasılık kurallarının teoremiispat biçiminde açıklanabileceğini göstermiştir. Kolmogorov'un üç aksiyomu şöyledir:\n",
    "\n",
    "    1) Örnek uzayının olsılığı 1'dir. Yani P(S) = 1'dir. Buradan olasılığın en yüksek değerinin 1 olacağını ve tüm örnek uzayının \n",
    "    olma olasılığının 1 olduğunu anlamalıyız. Örneğin bir zarın atılmasındaki örnek uzayı {1, 2, 3, 4, 5, 6} biçimindedir. \n",
    "    P({1, 2, 3, 4, 5, 6}) = 1'dir. Buradaki P({1, 2, 3, 4, 5, 6}) bir zarın 1 ya da 2 ya da 3 ya da 4 ya da 5 ya da 6 gelme olasılığı \n",
    "    anlamındadır. \n",
    "\n",
    "    2) Herhangi bir olayın olasılığı 0 ya da 0'dan büyüktür. Yani P(E) >= 0'dır. Burada olasılığın en düşük değerinin 0 olduğu \n",
    "    belirtilmektedir. O halde olasılık değeri 0 iel 1 arasındadır. \n",
    "\n",
    "    3) Bir kümenin olasılığı demek rassal deney sonucunda o kümenin herhangi elemanının oluşma olasılığı demektir. Örneğin \n",
    "    zarın atılmasındaki P({3, 5}) olasılığı zarın üç ya da 5 gelme olasılığı anlamına gelir. İki küme ayrıksa (yani ortak elemanları)\n",
    "    yoksa Bu iki kğmenin birleşimlerinin olasılığı bu iki kğmenin olaıslık toplamlarına eşittir. Yani E1 ve E2 iki olay \n",
    "    olmak üzere eğer bu iki olay ayrıksa (yani E1 ⋂ E2 = ∅ ise) P{E1 ∪ E2} = P{E1} + P{E2}'dir.\n",
    "\n",
    "    Bu üç kural kabul edildiğinde kümeler teorisi, permütasyon, kombinasyon gibi işlemlerle tüm olasılk formülleri elde edilebilmektedir.\n",
    "\n",
    "\"\"\""
   ]
  },
  {
   "cell_type": "code",
   "execution_count": 27,
   "id": "be296fb4",
   "metadata": {},
   "outputs": [
    {
     "name": "stdout",
     "output_type": "stream",
     "text": [
      "2.7688746209726918\n",
      "***\n",
      "2.7688746209726918\n",
      "***\n",
      "2.891995221924885\n",
      "2.7688746209726918\n"
     ]
    }
   ],
   "source": [
    "#STANDART SAPMA\n",
    "\n",
    "\"\"\"  Aslında ortalamadan ortalama uzaklık için \"standart sapma (standard deviation)\" denilen ölçü tercih edilmektedir. Standart \n",
    "    sapmada ortalamadan uzaklıkların mutlak değeri değil kareleri alınarak negatiflikten kurtulunmaktadır. Kare alma işlemi \n",
    "    değerleri daha fazla farklılaştırmaktadır. Yani aynı değerlerin oluşma olasılığı kare alma sayesinde daha azalmaktadır. \n",
    "    Aynı zamanda bu işlem bazı durumlarda başka faydalara da yol açmaktadır. \n",
    "    (Örneğin ileride bu kare alma işlemlerinin optimizasyon problemlerinde uygun bir işlem olduğunu göreceğiz.)\n",
    "\n",
    "    Standart sapma, değerlerin ortalamadan farklarının karelerinin ortalamasının karekökü alınarak hesaplanmaktadır.\n",
    "    Ancak burada ortalama bulunurken değer sayısı n olmak üzere bölüm n'e ya da (n - 1)'e yapılabilmektedir. \n",
    "    Anakütle (population) için genellikle n'e bölme yapılırken örneklemden hareketle ana kütle standart sapmasının tahmin edileceği durumlarda (n - 1)'e bölme yapılmaktadır. \n",
    "    (n - 1)'e bölme işlemine \"Bessel düzeltmesi (Bessel's correction)\" denilmektedir.\n",
    "    Genellikle standart sapma hesaplayan fonksiyonlar kaça bölüneceğini \"ddof (delte degrees of freedom)\" parametresiyle programcııdan istemektedir. ddof değeri n eksi kaça bçlüneceğini \n",
    "    belirtir. Örneğin ddof=0 ise n'e bölme ddof=1 ise (n - 1)'e bölme uygulanır. \n",
    "\n",
    "    Aşağıdaki örnekte NumPy kullanılarak bir standart sapma hesaplayan fonksiyon yazılmıştır. \"\"\"\n",
    "\n",
    "import numpy as np\n",
    "def sd(a, ddof = 0):\n",
    "    return np.sqrt(np.sum((a - np.mean(a)) ** 2)  / (len(a)  - ddof))\n",
    "\n",
    "a = [1, 4, 6, 8, 4, 2, 1, 8, 9, 3, 6, 8]\n",
    "result = sd(a)\n",
    "print(result)\n",
    "print(\"***\")\n",
    "\n",
    "\"\"\"    NumPy kütüphanesinde std isimli fonksiyon eksensel standart sapma hesaplayabilmektedir. Fonksiyonun ddof parametresi \n",
    "    default durumda 0'dır. Yani default durumda fonksiyon n'e bölme yapmaktadır.\"\"\" \n",
    "import numpy as np\n",
    "a = np.array([1, 4, 6, 8, 4, 2, 1, 8, 9, 3, 6, 8])\n",
    "result = np.std(a)\n",
    "print(result) \n",
    "print(\"***\")\n",
    "\"\"\" Pandas kütüphanesinde de Series ve DataFrame sınıflarının std isimli metotları eksensel standart sapma hesabı yapabilmektedir. \n",
    "    Ancak bu metotlarda ddof parametresi default 1 durumundadır. Yani bu metotlar default durumda (n - 1)'e bölme yapmaktadır.\"\"\"\n",
    "import pandas as pd\n",
    "\n",
    "s = pd.Series([1, 4, 6, 8, 4, 2, 1, 8, 9, 3, 6, 8])\n",
    "result = s.std()\n",
    "print(result)    \n",
    "\n",
    "s = pd.Series([1, 4, 6, 8, 4, 2, 1, 8, 9, 3, 6, 8])\n",
    "result = s.std(ddof=0) #ddof=0 n'e bolunmek demek\n",
    "print(result) \n"
   ]
  },
  {
   "cell_type": "code",
   "execution_count": null,
   "id": "fcc4c107",
   "metadata": {},
   "outputs": [],
   "source": [
    " #RASSAL DEGISKEN : \n",
    "    \n",
    "\"\"\"\n",
    "   Olasılıkta ve istatistikte en çok kullanılan temel kavramlardan biri \"rassal değişken (random variable)\" denilen kavramdır. \n",
    "    Her ne kadar \"rassal değişken\" isminde bir \"değişken\" geçiyorsa da aslında rassal değişken bir fonksiyon belirtmektedir.\n",
    "    \n",
    "    Rassal değişken bir rassal deney ile ilgilidir. Bir rassal deneyde örnek uzayın her bir elemanını (yani basit olayını)\n",
    "    reel bir değere eşleyen bir fonksiyon belirtmektedir. Rassal değişkenler genellikle \"sözel biçimde\" ifade edilirler. \n",
    "    Ancak bir fonksiyon belirtirler. Rassal değişkenler matematiksel gösterimlerde genellikle büyük harflerle belirtilmektedir. \n",
    "    Örneğin:\n",
    "\n",
    "    - R rassal değişkeni \"iki zar atıldığında zaarların üzrindeki sayıların toplamını\" belirtiyor olsun. Burada aslında R \n",
    "    bir fonksiyondur. Örnek uzayın her bir elemanını bir değere eşlemektedir. Matematiksel gösterimle R rassal değişkeni\n",
    "    şöyle belirtilebilir:\n",
    "\n",
    "    R: S -> R\n",
    "\n",
    "    Burada R'nin  örnek uzayından R'ye bir fonksiyon belirttiği anlaşılmaıdır. Burada R fonksiyonu aşağıdaki gibi eşleme \n",
    "    yapmaktadır:\n",
    "\n",
    "    (1, 1) -> 2\n",
    "    (1, 2) -> 3\n",
    "    (1, 3) -> 4\n",
    "    ...\n",
    "    (6, 5) -> 11\n",
    "    (6, 6) -> 12\n",
    "\n",
    "    K rassal değişkeni \"rastgele seçilen bir kişinin kilosunu belirtiyor\" olsun. Bu durumda örnek uzayı aslında dünyaki \n",
    "    tüm insanlardır. Burada K fonksiyonu da her insanı onun kilosuna eşleyen bir fonksiyondur. \n",
    "\n",
    "    C rassal değişkeni \"rastgele seçilen bir rengin RGB değerlerinin ortalamasını\" belirtiyor olsun. Bu duurmda her rengin\n",
    "    bir RGB ortalaması vardır. Bu fonksiyon belli bir rengi alıp onun ortalamasını belirten bir sayıya eşlemektedir. \n",
    "\n",
    "    Rassal değişkenler kümeler üzerinde işlemler yapmak yerine gerçek sayılar üzerinde işlem yapmamızı sağlayan, anlatımlarda\n",
    "    ve gösterimlerde kolaylık sağlayan bir kavramdır.  \n",
    "\"\"\"\n",
    "\n",
    "\n",
    "\"\"\"\n",
    " Her rassal değişkenin belli bir değer almasının bir olasılığı vardır. Örneğin \"iki zarın atılması deneyinde üste gelen sayılar\n",
    "    toplamına ilişkin\" R rassal değişkenini düşünelim. P(R = 5) demek S örnek uzayındaki 5 değerini veren kümenin olsılığı demektir. \n",
    "    Yani P(R = 5) ile aslında P({(1, 4), (4, 1) (2, 3), (3, 2)}) aynı anlamdadır. Buradaki P({(1, 4), (4, 1) (2, 3), (3, 2)}) olasılığın\n",
    "    \"bu değerlerden herhangi birinin oluşmasına yönelik\" olasılık olduğunu anımsayınız. Bu olasılığın değeri 1/9'dur.\n",
    "\n",
    "    Bir rassal değişkenin olasılığı belirtilirken P harfi olsılığı anlatmaktadır. Ancak bu P harfinden sonra bzı kişiler normal \n",
    "    parantezleri bazı kişiler küme parantezlerini tercih ederler. Yani örneğin bazı kişiler P(R = 5) gibi bir gösterimi tercih\n",
    "    derken bazı kişiler P{R = 5} gösterimini tercih etmektedir. Küme parantezli gösterim aslında \"R = 5\" ifadesinin bir küme \n",
    "    belirttiğini ve bu kümenin olasılığının hesaplanmak istediğini\" belirtmesi açısından daha doğal gibi gözükmektedir. \n",
    "\n",
    "    K rassal değişkeni rastgele seçilen bir insanın kilosunu belirtiyor olsun. Bu durumda K aslında tüm insanları tek tek \n",
    "    onların kilolarına eşleyen bir fonksiyondur. O halde P{K < 60} olasılığı aslında \"rastgele seçilen bir kişinin kilosunun \n",
    "    60'tan küçük olması olasılığı\" anlamına gelmektedir. \n",
    "\"\"\""
   ]
  },
  {
   "cell_type": "code",
   "execution_count": null,
   "id": "ea030d9a",
   "metadata": {},
   "outputs": [],
   "source": [
    "\"\"\"\n",
    "    Rassal değişkenler tıpkı matematiksel diğer fonksiyonlarda olduğu gibi \"kesikli (discrete)\" ya da \"sürekli (continuous)\" \n",
    "    olabilmektedir. eğer bir rassal değişken (yani fonksiyon) teorik olarak belli bir aralıkta tüm gerçek sayı değerlerini \n",
    "    alabiliyorsa böyle rassal değişkenlere \"sürekli (continous)\" rassal değişkenler denilmektedir. Ancak bir rassal değişken\n",
    "    belli bir aralıkta yalnızca belli gerçek sayı değerlerini alabiliyorsa bu rassal değişkenlere \"kesikli (discrete)\" rassal\n",
    "    değişkenler denilmektedir.\n",
    "    \n",
    "    Örneğin \"iki zarın atılmasında üste gelen sayılar toplamını belirten R rassal değişkeni\" kesiklidir. \n",
    "    Çünkü yalnızca belli değerleri alabilmektedir. Ancak \"rastgele seçilen bir kişinin kilosunu belirten\" K rassal değişkeni\n",
    "    süreklidir.\n",
    "    Çünkü teorik olarak belli bir aralıkta tüm gerçek değerleri alabilir. (Biz kişilerin kilolarını yuvarlayarak ifade\n",
    "    etmekteyiz. Ancak aslında onların kiloları belli aralıktaki tüm gerçek değerlerden biri olabilir.)\n",
    "\n",
    "    Sürekli rassal değişkenlerin noktasal olasılıkları 0'dır. Örneğin \"rastgele seçilen kişinin kilosunu\" belirten K rassal\n",
    "    değişkeni söz konusu olsun. P{K = 67} gibi bir olasılık aslında 0'dır.\n",
    "    Çünkü gerçek sayı ekseninde sonsuz tane nokta vardır. 67 yalnızca bu sonsuz noktadan bir tanesini belirtir. \n",
    "    \n",
    "    Sayı / sonsuz da 0'dır. Ancak sürekli rassal değişkenlerin aralıksal olasılıkları 0 olmak zorunda değildir.\n",
    "    Yani örneğin P{66 < K < 67} olasılığı 0 değildir. Burada {66 < K < 67} kümesinin de \n",
    "    elemanlarının sonsuz sayıda olduğuna dikkat ediniz. Artık bu hesap matematikte \"limit, türev, integral\" konularıyla \n",
    "    ilişkili hale gelmektedir. Sürekli rassal değişkenlerin aralıksal olasılıklarını belirtirken aralıklardaki '=' sembolünün \n",
    "    bir anlamının olmayacağına dikkat ediniz. Örneğin P{66 < K < 67} ile P{66 <= K <= 67} arasında aslında bir fark yoktur. \n",
    "    Bu konuda da kişiler farklı gösterimleri tercih edebilmektedir. Bazı kişiler bir tarafa '=' sembolünü koyup diğer tarafa\n",
    "    koymamaktadır. Örneğin P{66 <= K < 67} gibi. Ancak bu '=' sembollerinin sürekli rassal değişkenlerde bir etkisi yoktur.\n",
    "\n",
    "\"\"\""
   ]
  },
  {
   "cell_type": "code",
   "execution_count": null,
   "id": "c1f95cc4",
   "metadata": {},
   "outputs": [],
   "source": [
    "#PDF taniimi \n",
    "\n",
    "\"\"\"\n",
    "    # Yapay zeka ve makine öğrenmesinde sürekli rassal değişkenler daha fazla karşımıza çıkmaktadır. \n",
    "    Bu nedenle  biz sürekli rassal değişkenler ve onların olasılıkları üzerinde biraz daha duracağız. \n",
    "\n",
    "    #PDF:\n",
    "    Sürekli bir rassal değişkenin aralıksal olasılıklarını hesaplama aslında bir \"integral\" hesabı akla getirmektedir.\n",
    "    İşte  sürekli rassal değişkenlrin aralıksal olasılıklarının hesaplanması için kullanılan fonksiyonlara \"olasılık yoğunluk \n",
    "    fonksiyonları (probability density functions)\" denilmektedir.\n",
    "    \n",
    "    \n",
    "    Birisi bize bir rassal değişkenin belli bir aralıktaki \n",
    "    olasılığını soruyorsa o kişiin bize o rassal değişkene ilişkin \"olasılık yoğunluk fonksiyonunu\" vermiş olması gerekir. \n",
    "    Biz de örneğin P{x0 < X < x1} olasılığını x0'dan x1'e f(x)'in integrali ile elde ederiz. \n",
    "\n",
    "    Bir fonksiyonun olasılık yoğunluk fonksiyonu olabilmesi için -sonsuzdan + sonsuze integralinin (yani tüm eğri altında kalan\n",
    "    alanın) 1 olması gerekir. Bir rassal değişkenin olasılık yoğunluk fonksiyonuna \"o rassal değişkenin dağılımı\" da denilmektedir.\n",
    "\n",
    "\n",
    "    Pekiyi mademki bizim bir rassal değişkenin aralıksla olasılığını elde etmek için bir olasılık yoğunluk fonksiyonuna ihtiyacımız\n",
    "    var o halde bu fonksiyonu nasıl elde edeceğiz? İşte pek çok rassal değişkenin olasılık yoğunluk fonksiyonunun bazı kalıplara\n",
    "    uyduğu görülmektedir. \n",
    "    \n",
    "    Örneğin doğadaki pek çok olgunun (boy gibi, kilo gibi, zeka gibi) olasılık yoğunluk fonksiyonu \n",
    "    \"normal dağılım\" denilen eğriye uymaktadır. Normal dağılım eğrisine \"Gauss eğrisi\" ya da \"çan eğrisi\" de denilmektedir. \n",
    "    Ancak yukarıda da belirttiğimiz gibi aslında çeşitli olaylara uygulanabilecek değişik olasılık yoğunluk fonksiyonu kalıpları\n",
    "    belirlenmiştir. Tabii bu eğriler birer kalıptır. \n",
    "    Dolayısıyla bazı parametrelere de sahiptir. Örneğin sonsuz sayıda Gauss eğrisi oluşturulabilir. Gauss eğtisinin iki öenmli parametrik bilgisi \"orta noktasını belirten \"ortalama\" ve zayıflığını ya da \n",
    "    şişmanlığını belirten \"standart sapma\" değeridir. \n",
    "    \n",
    "    Bu durumda örneğin sürekli rassal değişkenlerle ilgili bir soru şöyle olabilir: \"Kişlerin zekaları ortalaması 100 standart \n",
    "    sapması 15 olan normal dağılıma uygundur. Rastgele seçilen bir kişinin zekasının 120 ile 130 arasında olma olasılıı nedir?\" \n",
    "    Burada bize rassal değişkenin olasılık yoğunluk fonklsiyonu parametreleriyle verilmiştir. Bizim de bu olasılığı hesaplamak\n",
    "    için tek yapacağımız şey 120'den 130'a fonksiyonun integralini almaktır. \n",
    "\n",
    "    Pekiyi rassal değişkenimiz başkaları tarafından belirlenen herhangi bir kalıba uymuyorsa ne yapabiliriz? Bir rassal \n",
    "    değişkenin olasılık yoğunluk fonksiyonunun sıfırdan çıkarılması biraz zahmetli bir işlemdir. Kümülatif olasılıklar yardımıyla\n",
    "    olasılık yoğunluk fonksiyonları tatmin edici bir biçimde elde edilebilmektedir. Ancak yukarıda da belirttiğimiz gibi\n",
    "    aslında pek çok olay zaten tespit edilmiş çeşitli kalıplara uymaktadır.\n",
    "\n",
    "\"\"\""
   ]
  }
 ],
 "metadata": {
  "kernelspec": {
   "display_name": "Python 3 (ipykernel)",
   "language": "python",
   "name": "python3"
  },
  "language_info": {
   "codemirror_mode": {
    "name": "ipython",
    "version": 3
   },
   "file_extension": ".py",
   "mimetype": "text/x-python",
   "name": "python",
   "nbconvert_exporter": "python",
   "pygments_lexer": "ipython3",
   "version": "3.9.13"
  }
 },
 "nbformat": 4,
 "nbformat_minor": 5
}
