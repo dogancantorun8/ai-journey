{
 "cells": [
  {
   "cell_type": "code",
   "execution_count": null,
   "id": "e2aa778b",
   "metadata": {},
   "outputs": [],
   "source": [
    "# Makine öğrenmesi ve veri bilimi uygulamalarında öncelikle verilerin elde edilmesi ve kullanıma hazır hale getirilmesi \n",
    "# gerekmektedir.Bu bölümünde biz \"verilerin kullanıma hazır hale getirilmesi (Data preparation yada Preprocesses)\" süreci üzerinde duracağız."
   ]
  },
  {
   "cell_type": "code",
   "execution_count": null,
   "id": "a49fade3",
   "metadata": {},
   "outputs": [],
   "source": []
  }
 ],
 "metadata": {
  "kernelspec": {
   "display_name": "Python 3 (ipykernel)",
   "language": "python",
   "name": "python3"
  },
  "language_info": {
   "codemirror_mode": {
    "name": "ipython",
    "version": 3
   },
   "file_extension": ".py",
   "mimetype": "text/x-python",
   "name": "python",
   "nbconvert_exporter": "python",
   "pygments_lexer": "ipython3",
   "version": "3.9.13"
  }
 },
 "nbformat": 4,
 "nbformat_minor": 5
}
