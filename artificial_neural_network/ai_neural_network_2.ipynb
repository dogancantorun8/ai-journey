{
 "cells": [
  {
   "cell_type": "code",
   "execution_count": 1,
   "id": "7ebf0026",
   "metadata": {},
   "outputs": [
    {
     "name": "stdout",
     "output_type": "stream",
     "text": [
      "0.9999999983124701\n"
     ]
    }
   ],
   "source": [
    "#Tek Neural Network Ornegi\n",
    "\"\"\"\n",
    "En basit yapay sinir ağı mimarisi tek bir nörondan oluşan mimaridir. Buna \"perceptron\" denilmektedir. Böyle bir model ile\n",
    "\"doğrusal olarak ayrıştırılabilen (linearly separable)\" ikili sınıflandırma problemleri ya da (lojistik olmayan) yalın \n",
    "çoklu regresyon problemleri çözülebilmektedir. Her ne kadar tek bir nöron bile bazı problemleri çözebiliyorsa da problemler \n",
    "karmaşıklaştıkça ağdaki nöron sayılarının ve katmanların artırılması gerekmektedir.  \n",
    "\n",
    "Aşağıda bir nöronun bir sınıfla temsil edilmesine ilişkin bir örnek veriyoruz.\n",
    "\n",
    "\"\"\"\n",
    "import numpy as np\n",
    "\n",
    "class Neuron:\n",
    "    def __init__(self, w, b):\n",
    "        self.w= w\n",
    "        self.b = b\n",
    "        \n",
    "    def output(self, x, activation):\n",
    "        return activation(np.dot(x, self.w) + self.b)\n",
    "\n",
    "def sigmoid(x):\n",
    "    return np.e ** x / (1 + np.e ** x)\n",
    "        \n",
    "w = np.array([1, 2, 3])\n",
    "b = 1.2\n",
    "\n",
    "n = Neuron(w, b)\n",
    "\n",
    "x = np.array([1, 3, 4])\n",
    "result = n.output(x, sigmoid)\n",
    "print(result)"
   ]
  },
  {
   "cell_type": "code",
   "execution_count": null,
   "id": "fb1330c8",
   "metadata": {},
   "outputs": [],
   "source": []
  }
 ],
 "metadata": {
  "kernelspec": {
   "display_name": "Python 3 (ipykernel)",
   "language": "python",
   "name": "python3"
  },
  "language_info": {
   "codemirror_mode": {
    "name": "ipython",
    "version": 3
   },
   "file_extension": ".py",
   "mimetype": "text/x-python",
   "name": "python",
   "nbconvert_exporter": "python",
   "pygments_lexer": "ipython3",
   "version": "3.8.7rc1"
  }
 },
 "nbformat": 4,
 "nbformat_minor": 5
}
