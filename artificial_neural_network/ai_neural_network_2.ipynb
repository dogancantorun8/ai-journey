{
 "cells": [
  {
   "cell_type": "code",
   "execution_count": 4,
   "id": "7ebf0026",
   "metadata": {},
   "outputs": [
    {
     "name": "stdout",
     "output_type": "stream",
     "text": [
      "0.9999999983124701\n"
     ]
    }
   ],
   "source": [
    "#Tek Neural Network Ornegi\n",
    "\"\"\"\n",
    "En basit yapay sinir ağı mimarisi tek bir nörondan oluşan mimaridir. Buna \"perceptron\" denilmektedir. Böyle bir model ile\n",
    "\"doğrusal olarak ayrıştırılabilen (linearly separable)\" ikili sınıflandırma problemleri ya da (lojistik olmayan) yalın \n",
    "çoklu regresyon problemleri çözülebilmektedir. Her ne kadar tek bir nöron bile bazı problemleri çözebiliyorsa da problemler \n",
    "karmaşıklaştıkça ağdaki nöron sayılarının ve katmanların artırılması gerekmektedir.  \n",
    "\n",
    "Aşağıda bir nöronun bir sınıfla temsil edilmesine ilişkin bir örnek veriyoruz.\n",
    "\n",
    "\"\"\"\n",
    "import numpy as np\n",
    "\n",
    "class Neuron:\n",
    "    def __init__(self, w, b):\n",
    "        self.w= w\n",
    "        self.b = b\n",
    "        \n",
    "    def output(self, x, activation):\n",
    "        return activation(np.dot(x, self.w) + self.b)\n",
    "\n",
    "def sigmoid(x):\n",
    "    return np.e ** x / (1 + np.e ** -x)\n",
    "        \n",
    "w = np.array([1, 2, 3])\n",
    "b = 1.2\n",
    "\n",
    "n = Neuron(w, b)\n",
    "\n",
    "x = np.array([1, 3, 4])\n",
    "result = n.output(x, sigmoid)\n",
    "print(result)"
   ]
  },
  {
   "cell_type": "code",
   "execution_count": null,
   "id": "fb1330c8",
   "metadata": {},
   "outputs": [],
   "source": [
    "\"\"\"\n",
    "Bir yapay sinir ağı modelinde \"katmanlar (layers)\" vardır. Katman aynı düzeydeki nöron grubuna denilmektedir. Yapay sinir ağı \n",
    "katmanları tipik olarak üçe ayırmaktadır:\n",
    "\n",
    "1) Girdi Katmanı (Input Layer)\n",
    "2) Saklı Katmanlar (Hidden Layers)\n",
    "3) Çıktı Katmanı (Output Layer)\n",
    "\n",
    "Girdi katmanı veri kümesindeki satırları temsil eden yani ağa uygulanacak verileri belirten katmandır. Aslında girdi katmanı \n",
    "gerçek anlamda nöronlardan oluşmaz. Ancak anlatımları kolaylaştırmak için bu katmanın da nöronlardan oluştuğu varsayılmaktadır. \n",
    "Başka bir deyişle girdi katmanının tek bir nöron girişi ve tek bir çıktısı vardır. Bunların w değerleri 1'dir. Aktivasyon \n",
    "fonksiyonları f(x) = x biçimindedir. Yani girdi katmanı bir şey yapmaz, girdiyi değiştirmeden çıktıya verir. Girdi katmanındaki \n",
    "nöron sayısı veri kümesindeki sütunların (yani özelliklerin) sayısı kadar olmalıdır. Örneğin 5 tane girdiye (özelliğe) sahip olan \n",
    "bir sinir ağının girdi katmanı şöyle edilebilir:\n",
    "\n",
    "x1 ---> O --->\n",
    "x2 ---> O --->\n",
    "x3 ---> O --->\n",
    "x4 ---> O --->\n",
    "x5 ---> O --->\n",
    "\n",
    "Buradaki O sembolleri girdi katmanındaki nöronları temsil etmektedir. Girdi katmanındaki nöronların 1 tane girdisinin 1 tane de \n",
    "çıktısınn olduğuna dikkat ediniz. Buradaki nöronlar girdiyi değiştirmediğine göre bunların w değerleri 1, b değerleri 0, aktivasyon\n",
    "fonksiyonu da f(x) = x biçiminde olmalıdır. \n",
    "\n",
    "Girdiler saklı katman denilen katmanlardaki nöronlara bağlanırlar. Modelde sıfır tane, bir tane ya da birden fazla saklı katman \n",
    "bulunabilir. Saklı katmanların sayısı ve saklı katmanlardaki nöronların sayısı ve bağlantı biçimleri problemin niteliğine göre \n",
    "değişebilmektedir. Yani saklı katmanlardcaki nöronların girdi katmanıyla aynı sayıda olması gerekmez. Her saklı katmandaki \n",
    "nöron sayıları da aynı olmak zorunda değildir. \n",
    "\n",
    "Çıktı katmanı bizim sonucu alacağımız katmandır. Çıktı katmanındaki nöron sayısı bizim kestirmeye çalıştığımız olgularla ilgilidir. \n",
    "Örneğin biz bir evin fiyatını kestirmeye çalışıyorsak çıktı katmanında tek bir nöron bulunur. Yine örneğin biz ikili sınıflandırma\n",
    "problemi üzerinde çalışıyorsak çıktı katmanı yine tek bir nörondan oluşabilir. Ancak biz evin fiyatının yanı sıra evin sağlamlığını \n",
    "da kestirmek istiyorsak bu durumda çıktı katmanında iki nöron olacaktır. Benzer biçimde çok sınıflı sınıflandırma problemlerinde \n",
    "çıktı katmanında sınıf sayısı kadar nöron bulunur.\n",
    "\n",
    "Bir yapay sinir ağındaki katmanların sayısı belirtilirken bazıları girdi katmanını bu sayıya dahil ederken, bazıları etmemektedir. \n",
    "Bu nedenle katman sayılarını konuşurken yalnızca saklı katmanları belirtmek bu bakımdan iki anlamlılığı giderebilmektedir. \n",
    "Örneğin biz \"modelimizde 5 katman var\" dediğimizde birisi bu 5 katmanın içerisinde girdi katmanı dahil mi diye tereddütte\n",
    "kalabilir. O halde iki anlamlılığı ortadan kaldırmak için \"modelimizde 3 saklı katman var\" gibi bir ifade daha uygun olacaktır.\n",
    "\"\"\"\n"
   ]
  },
  {
   "cell_type": "code",
   "execution_count": null,
   "id": "0532c859-7f5d-4021-837a-9ff023662a30",
   "metadata": {},
   "outputs": [],
   "source": []
  }
 ],
 "metadata": {
  "kernelspec": {
   "display_name": "Python 3 (ipykernel)",
   "language": "python",
   "name": "python3"
  },
  "language_info": {
   "codemirror_mode": {
    "name": "ipython",
    "version": 3
   },
   "file_extension": ".py",
   "mimetype": "text/x-python",
   "name": "python",
   "nbconvert_exporter": "python",
   "pygments_lexer": "ipython3",
   "version": "3.8.7rc1"
  }
 },
 "nbformat": 4,
 "nbformat_minor": 5
}
